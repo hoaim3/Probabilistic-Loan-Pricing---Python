{
 "cells": [
  {
   "cell_type": "markdown",
   "metadata": {},
   "source": [
    "# Commercial Loan (Startup Lending) Analysis Model\n",
    "\n",
    "The model is designed to simulate loan repayment schedules and assess the Internal Rate of Return (IRR) under various default risk scenarios. This model aids in evaluating the financial viability of commercial loans and understanding the impact of defaults over time."
   ]
  },
  {
   "cell_type": "markdown",
   "metadata": {},
   "source": [
    "## Setup"
   ]
  },
  {
   "cell_type": "code",
   "execution_count": 6,
   "metadata": {},
   "outputs": [],
   "source": [
    "from dataclasses import dataclass  # For creating structured data classes\n",
    "import numpy_financial as npf      # For financial calculations like IRR\n",
    "import pandas as pd                # For data manipulation and storage\n",
    "import matplotlib.pyplot as plt    # For visualizing results\n",
    "import random                      # For generating random cases\n",
    "import itertools                   # For handling parameter combinations\n",
    "import matplotlib.colors as mcolors  # For customizing plot aesthetics\n"
   ]
  },
  {
   "cell_type": "markdown",
   "metadata": {},
   "source": [
    "## Inputs"
   ]
  },
  {
   "cell_type": "code",
   "execution_count": 7,
   "metadata": {},
   "outputs": [],
   "source": [
    "@dataclass\n",
    "class ModelInputs:\n",
    "    \"\"\"\n",
    "    Represents the input parameters for the Commercial Loan Analysis Model.\n",
    "    - price_machine: The principal loan amount for purchasing machinery.\n",
    "    - loan_life: The duration of the loan in years (tuple of options).\n",
    "    - initial_default: Initial default probability in the first year (tuple of options).\n",
    "    - default_decay: Rate at which default risk decreases over time.\n",
    "    - final_default: Default probability in the final year.\n",
    "    - recovery_rate: Percentage of the loan amount recovered after a default.\n",
    "    - interest: Annual interest rate (tuple of options).\n",
    "    - num_iterations: Number of Monte Carlo iterations for simulations.\n",
    "    - case_names: Names of possible cases (Fulfillment and Default).\n",
    "    \"\"\"\n",
    "    price_machine: float = 1_000_000\n",
    "    loan_life: tuple = (5, 10, 20)\n",
    "    initial_default: tuple = (0.1, 0.2, 0.3)\n",
    "    default_decay: float = 0.9\n",
    "    final_default: float = 0.4\n",
    "    recovery_rate: float = 0.4\n",
    "    interest: tuple = (0.3, 0.35, 0.4)\n",
    "    num_iterations: int = 1000\n",
    "    case_names: tuple = ('Fulfillment', 'Default')\n",
    "\n",
    "        \n",
    "model_data = ModelInputs()"
   ]
  },
  {
   "cell_type": "markdown",
   "metadata": {},
   "source": [
    "## Model"
   ]
  },
  {
   "cell_type": "markdown",
   "metadata": {},
   "source": [
    "### Utility Functions"
   ]
  },
  {
   "cell_type": "code",
   "execution_count": 8,
   "metadata": {},
   "outputs": [],
   "source": [
    "def default_risk_at_year(data: ModelInputs, year):\n",
    "    \"\"\"\n",
    "    Gets the default risk at a given year with its decreases overtime as the business matures. There is a high probability of default in the final year due to the payment of principle and interest.\n",
    "    \"\"\"\n",
    "    if year < data.loan_life:\n",
    "        if year == 1:\n",
    "            default_probability = data.initial_default\n",
    "        else:\n",
    "            default_probability = default_risk_at_year (data, year-1) * data.default_decay\n",
    "    else:\n",
    "        default_probability = data.final_default\n",
    "    return default_probability"
   ]
  },
  {
   "cell_type": "code",
   "execution_count": 9,
   "metadata": {},
   "outputs": [],
   "source": [
    "def get_the_payment_case (data: ModelInputs, year):\n",
    "    \"\"\"\n",
    "    Internal Randomness\n",
    "    - 0: fulfillment \n",
    "    - 1: default\n",
    "    As this aligns with how the inputs are defined, the function will return the case number.\n",
    "    \"\"\"\n",
    "    case_num = random.choices([0,1], weights = [1- default_risk_at_year(data, year), default_risk_at_year(data, year)])[0]\n",
    "    return case_num"
   ]
  },
  {
   "cell_type": "code",
   "execution_count": 10,
   "metadata": {},
   "outputs": [],
   "source": [
    "def loan_repayment_at_year(data: ModelInputs, year):\n",
    "    \"\"\"\n",
    "    Gets the loan repayment at a given year from the start of the model based on machine price and interest rate.\n",
    "    \"\"\"\n",
    "    if year < data.loan_life:\n",
    "        # For n-1 years, the business is responsible for paying the interst.\n",
    "        CF_at_year = data.price_machine * data.interest\n",
    "    else:\n",
    "        # In the final period, both machine price and interest will be paid.\n",
    "        CF_at_year = data.price_machine * (1 + data.interest)\n",
    "    return CF_at_year"
   ]
  },
  {
   "cell_type": "markdown",
   "metadata": {},
   "source": [
    "### Core Model Functions"
   ]
  },
  {
   "cell_type": "code",
   "execution_count": 32,
   "metadata": {},
   "outputs": [],
   "source": [
    "def loan_assessment (data: ModelInputs, print_output = True):\n",
    "    \"\"\"\n",
    "    The main model function which the internal rate of return based on the model inputs,\n",
    "    calling the other functions to determine the loan repayment and default probability.\n",
    "    \"\"\"\n",
    "    year = 0\n",
    "    CF = [-data.price_machine]\n",
    "\n",
    "    if print_output:\n",
    "        print ('Loan Schedule:')\n",
    "        print('Interest rate: {data.interest}, Loan life: {data.loan_life}, Initial default probability: {data.initial_default}')\n",
    "    while year < data.loan_life :\n",
    "        year +=1\n",
    "        default_risk = default_risk_at_year(data, year)\n",
    "        case = get_the_payment_case(data, year)\n",
    "        case_type = data.case_names[case]\n",
    "        # Handling the CF during the loan repayment schedule \n",
    "        if case == 0:\n",
    "            loan_repayment = loan_repayment_at_year(data, year)\n",
    "            CF.append(loan_repayment)\n",
    "            if print_output:\n",
    "                print(f'The loan repayment at year {year} ({case_type}) is ${loan_repayment:,.0f}.') \n",
    "        else:\n",
    "            recovery_amount = data.recovery_rate * data.price_machine\n",
    "            CF += [0, 0, recovery_amount]\n",
    "            if print_output:\n",
    "                print(f'The loan is in {case_type} at year {year}.')\n",
    "                print(f'There are no interests collected for year {year} and {year + 1}.')\n",
    "                print(f'The recovery amount collected at year {year + 2} is ${recovery_amount:,.0f}.')\n",
    "            break\n",
    "\n",
    "    irr = npf.irr(CF)\n",
    "    if print_output:\n",
    "        print(f'\\nIRR: The effective interest rate at which the loan payments are valued is: {irr * 100:,.2f}%.')\n",
    "    return irr"
   ]
  },
  {
   "cell_type": "markdown",
   "metadata": {},
   "source": [
    "### Interation & Scenario Analysis Functions"
   ]
  },
  {
   "cell_type": "code",
   "execution_count": 12,
   "metadata": {},
   "outputs": [],
   "source": [
    "def simulate_loan_interations_df(data: ModelInputs):\n",
    "    \"\"\"\n",
    "    Runs the model repeatedly based on the number of iterations and puts the resulting\n",
    "    IRR in a DataFrame\n",
    "    \"\"\"\n",
    "    all_irrs = []\n",
    "    interest_rate = []\n",
    "    loan_life = []\n",
    "    initial_default = []\n",
    "    \n",
    "    for i in range(data.num_iterations):\n",
    "        irr = loan_assessment(data, print_output=False)\n",
    "        all_irrs.append(irr)\n",
    "        interest_rate.append(data.interest)\n",
    "        loan_life.append(data.loan_life)\n",
    "        initial_default.append(data.initial_default)\n",
    "\n",
    "    irr_df = pd.DataFrame()\n",
    "    irr_df['Interest Rate'] = [f\"{rate * 100:.0f}%\" for rate in interest_rate]\n",
    "    irr_df['Loan Life'] = loan_life\n",
    "    irr_df['Initial Default Probability'] = [f\"{prob * 100:.0f}%\" for prob in initial_default]\n",
    "    irr_df['IRR'] = [f\"{rate * 100:.2f}%\" for rate in all_irrs]\n",
    "    return irr_df"
   ]
  },
  {
   "cell_type": "code",
   "execution_count": 20,
   "metadata": {},
   "outputs": [],
   "source": [
    "def simulate_scenario_results(data):\n",
    "    combinations = tuple(itertools.product(data.interest, data.loan_life, data.initial_default))\n",
    "    results_df = pd.DataFrame()\n",
    "\n",
    "    for comb in combinations:\n",
    "        interest, loan_life, initial_default = comb\n",
    "        data = ModelInputs(interest = interest, loan_life = loan_life, initial_default = initial_default)\n",
    "        irr_df= simulate_loan_interations_df(data)\n",
    "        results_df = pd.concat([results_df, irr_df], ignore_index=True)\n",
    "    \n",
    "    return results_df"
   ]
  },
  {
   "cell_type": "markdown",
   "metadata": {},
   "source": [
    "## Output"
   ]
  },
  {
   "cell_type": "code",
   "execution_count": 23,
   "metadata": {},
   "outputs": [
    {
     "name": "stdout",
     "output_type": "stream",
     "text": [
      "      Interest Rate  Loan Life Initial Default Probability      IRR\n",
      "0               30%          5                         10%   30.00%\n",
      "1               30%          5                         10%    8.92%\n",
      "2               30%          5                         10%   30.00%\n",
      "3               30%          5                         10%   15.26%\n",
      "4               30%          5                         10%   15.26%\n",
      "...             ...        ...                         ...      ...\n",
      "26995           40%         20                         30%    7.36%\n",
      "26996           40%         20                         30%   -8.24%\n",
      "26997           40%         20                         30%  -26.32%\n",
      "26998           40%         20                         30%   31.10%\n",
      "26999           40%         20                         30%  -26.32%\n",
      "\n",
      "[27000 rows x 4 columns]\n"
     ]
    }
   ],
   "source": [
    "irr_df = simulate_scenario_results(model_data)\n",
    "print (irr_df)"
   ]
  },
  {
   "cell_type": "code",
   "execution_count": 25,
   "metadata": {},
   "outputs": [
    {
     "data": {
      "image/png": "[encoded data removed]",
      "text/plain": [
       "<Figure size 640x480 with 1 Axes>"
      ]
     },
     "metadata": {},
     "output_type": "display_data"
    }
   ],
   "source": [
    "def plot_irr_distribution(irr_df: pd.DataFrame):\n",
    "    irr_df['IRR_numeric'] = irr_df['IRR'].str.rstrip('%').astype(float)\n",
    "    irr_df['IRR_numeric'].hist(bins=20, color='skyblue', edgecolor='black')\n",
    "    plt.title('IRR Distribution')\n",
    "    plt.xlabel('IRR (%)')\n",
    "    plt.ylabel('Frequency')\n",
    "    plt.show()\n",
    "\n",
    "plot_irr_distribution(irr_df)"
   ]
  },
  {
   "cell_type": "code",
   "execution_count": 31,
   "metadata": {},
   "outputs": [
    {
     "name": "stdout",
     "output_type": "stream",
     "text": [
      "Mean IRR: 9.72%\n",
      "Median IRR: 15.26%\n",
      "Standard Deviation: 23.63%\n",
      "Max IRR: 40.00%\n",
      "Min IRR: -26.32%\n"
     ]
    }
   ],
   "source": [
    "print(f\"Mean IRR: {irr_df['IRR_numeric'].mean():.2f}%\")\n",
    "print(f\"Median IRR: {irr_df['IRR_numeric'].median():.2f}%\")\n",
    "print(f\"Standard Deviation: {irr_df['IRR_numeric'].std():.2f}%\")\n",
    "print(f\"Max IRR: {irr_df['IRR_numeric'].max():.2f}%\")\n",
    "print(f\"Min IRR: {irr_df['IRR_numeric'].min():.2f}%\")"
   ]
  }
 ],
 "metadata": {
  "kernelspec": {
   "display_name": "loan_pricing",
   "language": "python",
   "name": "python3"
  },
  "language_info": {
   "codemirror_mode": {
    "name": "ipython",
    "version": 3
   },
   "file_extension": ".py",
   "mimetype": "text/x-python",
   "name": "python",
   "nbconvert_exporter": "python",
   "pygments_lexer": "ipython3",
   "version": "3.11.11"
  }
 },
 "nbformat": 4,
 "nbformat_minor": 4
}
