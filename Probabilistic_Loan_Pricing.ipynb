{
 "cells": [
  {
   "cell_type": "markdown",
   "metadata": {},
   "source": [
    "# Startup Lending Model\n",
    "\n",
    "Insert a description of the model\n",
    "\n",
    "- [**Setup**](#Setup): Runs any imports and other setup\n",
    "- [**Inputs**](#Inputs): Defines the inputs for the model\n",
    "- [**Model**](#Model)\n",
    "- [**Output**](#Output)\n"
   ]
  },
  {
   "cell_type": "markdown",
   "metadata": {},
   "source": [
    "## Setup\n",
    "\n",
    "Setup for the later calculations are here. The necessary packages are imported."
   ]
  },
  {
   "cell_type": "code",
   "execution_count": 362,
   "metadata": {},
   "outputs": [],
   "source": [
    "from dataclasses import dataclass\n",
    "import numpy_financial as npf\n",
    "import pandas as pd\n",
    "import matplotlib.pyplot as plt\n",
    "import random\n",
    "import itertools\n",
    "import matplotlib.colors as mcolors"
   ]
  },
  {
   "cell_type": "markdown",
   "metadata": {},
   "source": [
    "## Inputs\n",
    "\n",
    "All of the inputs for the model are defined here. A class is constructed to manage the data, and an instance of the class containing the default inputs is created."
   ]
  },
  {
   "cell_type": "code",
   "execution_count": 363,
   "metadata": {},
   "outputs": [],
   "source": [
    "@dataclass\n",
    "class ModelInputs:\n",
    "    price_machine: float = 1_000_000\n",
    "    loan_life: tuple = (5, 10, 20)\n",
    "    initial_default: tuple = (0.1, 0.2, 0.3)\n",
    "    default_decay: float = 0.9\n",
    "    final_default: float = 0.4\n",
    "    recovery_rate: float = 0.4\n",
    "    interest: tuple = (0.3, 0.35, 0.4)\n",
    "    num_iterations: int = 1000\n",
    "    case_names: tuple = ('Fulfillment', 'Default')\n",
    "        \n",
    "model_data = ModelInputs()"
   ]
  },
  {
   "cell_type": "markdown",
   "metadata": {},
   "source": [
    "## Model"
   ]
  },
  {
   "cell_type": "code",
   "execution_count": 364,
   "metadata": {},
   "outputs": [],
   "source": [
    "def default_risk_at_year(data: ModelInputs, year):\n",
    "    \"\"\"\n",
    "    Gets the default risk at a given year with its decreases overtime as the business matures and a high probability of default in the final year.\n",
    "    \"\"\"\n",
    "    if year < data.loan_life:\n",
    "        if year == 1:\n",
    "            default_probability = data.initial_default\n",
    "        else:\n",
    "            default_probability = default_risk_at_year (data, year-1) * data.default_decay\n",
    "    else:\n",
    "        default_probability = data.final_default\n",
    "    return default_probability"
   ]
  },
  {
   "cell_type": "markdown",
   "metadata": {},
   "source": [
    "### Internal Randomness\n",
    "First, a function to determine the default chance in the year we are in.\n",
    "- 0: Fulfillment\n",
    "- 1: Default\n",
    "\n",
    "As this aligns with how the inputs are defined, the function will return the case number."
   ]
  },
  {
   "cell_type": "code",
   "execution_count": 365,
   "metadata": {},
   "outputs": [],
   "source": [
    "def get_the_payment_case (data: ModelInputs, year):\n",
    "    \"\"\"\n",
    "    0 corresponsds to the fulfillment and 1 to the default.\n",
    "    \"\"\"\n",
    "    case_num = random.choices([0,1], weights = [1- default_risk_at_year(data, year), default_risk_at_year(data, year)])[0]\n",
    "    return case_num"
   ]
  },
  {
   "cell_type": "code",
   "execution_count": 366,
   "metadata": {},
   "outputs": [],
   "source": [
    "def loan_repayment_at_year(data: ModelInputs, year):\n",
    "    \"\"\"\n",
    "    Gets the loan repayment at a given year from the start of the model based on machine price and interest rate.\n",
    "    \"\"\"\n",
    "    if year < data.loan_life:\n",
    "        # For n-1 years, the business is responsible for paying the interst.\n",
    "        CF_at_year = data.price_machine * data.interest\n",
    "    else:\n",
    "        # In the final period, both machine price and interest will be paid.\n",
    "        CF_at_year = data.price_machine * (1 + data.interest)\n",
    "    return CF_at_year"
   ]
  },
  {
   "cell_type": "code",
   "execution_count": 367,
   "metadata": {},
   "outputs": [],
   "source": [
    "def loan_assessment (data: ModelInputs, print_output = True):\n",
    "    \"\"\"\n",
    "    The main model function which the internal rate of return based on the model inputs,\n",
    "    calling the other functions to determine the loan repayment and default probability.\n",
    "    \"\"\"\n",
    "    year = 0\n",
    "    CF = [-data.price_machine]\n",
    "\n",
    "    if print_output:\n",
    "        print ('Loan Schedule:')\n",
    "        print('Interest rate: {data.interest}, Loan life: {data.loan_life}, Initial default probability: {data.initial_default}')\n",
    "    while year < data.loan_life :\n",
    "        year +=1\n",
    "        default_risk = default_risk_at_year(data, year)\n",
    "        case = get_the_payment_case(data, year)\n",
    "        case_type = data.case_names[case]\n",
    "        # Handling the CF during the loan repayment schedule \n",
    "        if case == 0:\n",
    "            loan_repayment = loan_repayment_at_year(data, year)\n",
    "            CF.append(loan_repayment)\n",
    "            if print_output:\n",
    "                print(f'The loan repayment at year {year} ({case_type}) is ${loan_repayment:,.0f}.') \n",
    "        else:\n",
    "            recovery_amount = data.recovery_rate * data.price_machine\n",
    "            CF += [0, 0, recovery_amount]\n",
    "            if print_output:\n",
    "                print(f'The loan is in {case_type} at year {year}.')\n",
    "                print(f'There are no interests collected for year {year} and {year + 1}.')\n",
    "                print(f'The recovery amount collected at year {year + 2} is ${recovery_amount:,.0f}.')\n",
    "            break\n",
    "\n",
    "    irr = npf.irr(CF)\n",
    "    if print_output:\n",
    "        print(f'\\nIRR: The effective interest rate at which the loan payments are valued is: {irr * 100:,.2f}%.')\n",
    "    return irr"
   ]
  },
  {
   "cell_type": "code",
   "execution_count": 368,
   "metadata": {},
   "outputs": [],
   "source": [
    "def loan_assessment_iteration_df(data: ModelInputs):\n",
    "    \"\"\"\n",
    "    Runs the model repeatedly based on the number of iterations and puts the resulting\n",
    "    IRR in a DataFrame\n",
    "    \"\"\"\n",
    "    all_irrs = []\n",
    "    interest_rate = []\n",
    "    loan_life = []\n",
    "    initial_default = []\n",
    "    \n",
    "    for i in range(data.num_iterations):\n",
    "        irr = loan_assessment(data, print_output=False)\n",
    "        all_irrs.append(irr)\n",
    "        interest_rate.append(data.interest)\n",
    "        loan_life.append(data.loan_life)\n",
    "        initial_default.append(data.initial_default)\n",
    "\n",
    "    irr_df = pd.DataFrame()\n",
    "    irr_df['Interest Rate'] = [f\"{rate * 100:.0f}%\" for rate in interest_rate]\n",
    "    irr_df['Loan Life'] = loan_life\n",
    "    irr_df['Initial Default Probability'] = [f\"{prob * 100:.0f}%\" for prob in initial_default]\n",
    "    irr_df['IRR'] = [f\"{rate * 100:.2f}%\" for rate in all_irrs]\n",
    "    return irr_df"
   ]
  },
  {
   "cell_type": "code",
   "execution_count": 369,
   "metadata": {},
   "outputs": [],
   "source": [
    "def loan_assessment_summary_df(data):\n",
    "    combinations = tuple(itertools.product(data.interest, data.loan_life, data.initial_default))\n",
    "    results_df = pd.DataFrame()\n",
    "\n",
    "    for comb in combinations:\n",
    "        interest, loan_life, initial_default = comb\n",
    "        data = ModelInputs(interest = interest, loan_life = loan_life, initial_default = initial_default)\n",
    "        irr_df= loan_assessment_iteration_df(data)\n",
    "        results_df = pd.concat([results_df, irr_df], ignore_index=True)\n",
    "    \n",
    "    return results_df"
   ]
  },
  {
   "cell_type": "markdown",
   "metadata": {},
   "source": [
    "## Output"
   ]
  },
  {
   "cell_type": "code",
   "execution_count": 372,
   "metadata": {},
   "outputs": [],
   "source": [
    "irr_df = loan_assessment_summary_df(model_data)"
   ]
  },
  {
   "cell_type": "markdown",
   "metadata": {},
   "source": [
    "## Further Analysis"
   ]
  },
  {
   "cell_type": "code",
   "execution_count": 371,
   "metadata": {},
   "outputs": [],
   "source": [
    "def summarize_irr_df(irr_df):\n",
    "    \"\"\"\n",
    "    Summarizes the DataFrame which contains IRR from multiple runs\n",
    "    of the model\n",
    "    \"\"\"\n",
    "    avg_irr = irr_df['IRR'].mean()\n",
    "    std_irr = irr_df['IRR'].std()\n",
    "    max_irr = irr_df['IRR'].max()\n",
    "    min_irr = irr_df['IRR'].min()\n",
    "\n",
    "    print(\n",
    "        f'The average IRR is {avg_irr:.0f} across the run inputs, with a standard deviation '\n",
    "        f'of {std_irr:.1f}, max of {max_irr:.0f}, and min of {min_irr:.0f}.'\n",
    "    )"
   ]
  }
 ],
 "metadata": {
  "kernelspec": {
   "display_name": "loan_pricing",
   "language": "python",
   "name": "python3"
  },
  "language_info": {
   "codemirror_mode": {
    "name": "ipython",
    "version": 3
   },
   "file_extension": ".py",
   "mimetype": "text/x-python",
   "name": "python",
   "nbconvert_exporter": "python",
   "pygments_lexer": "ipython3",
   "version": "3.11.11"
  }
 },
 "nbformat": 4,
 "nbformat_minor": 4
}
